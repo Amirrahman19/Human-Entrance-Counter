{
 "cells": [
  {
   "cell_type": "code",
   "execution_count": null,
   "metadata": {},
   "outputs": [],
   "source": [
    "import peekingduck\n",
    "assert peekingduck.__version__ == 'v1.1.0' , \"Peekingduck is not Updated to the latest version.\""
   ]
  },
  {
   "cell_type": "code",
   "execution_count": null,
   "metadata": {},
   "outputs": [],
   "source": [
    "from peekingduck.runner import Runner\n",
    "from peekingduck.pipeline.nodes.input import live\n",
    "from peekingduck.pipeline.nodes.model import yolo\n",
    "from peekingduck.pipeline.nodes.draw import bbox, legend, blur_bbox\n",
    "from peekingduck.pipeline.nodes.dabble import fps\n",
    "from peekingduck.pipeline.nodes.output import media_writer, screen\n",
    "from peekingduck.pipeline.nodes.node import AbstractNode\n",
    "from custom_nodes.debug import printPipe\n",
    "from custom_nodes.tracking import tracker, counter"
   ]
  },
  {
   "cell_type": "code",
   "execution_count": null,
   "metadata": {},
   "outputs": [],
   "source": [
    "import cv2 as cv\n",
    "import numpy as np\n",
    "from urllib.request import urlopen\n",
    "import os\n",
    "import datetime\n",
    "import time\n",
    "import sys\n",
    "\n",
    "#change to your ESP32-CAM ip\n",
    "url=\"http://192.168.137.86:81/stream\"\n",
    "CAMERA_BUFFRER_SIZE=4096\n",
    "stream=urlopen(url)\n",
    "bts=b''\n",
    "i=0\n",
    "while True:    \n",
    "    try:\n",
    "        bts+=stream.read(CAMERA_BUFFRER_SIZE)\n",
    "        jpghead=bts.find(b'\\xff\\xd8')\n",
    "        jpgend=bts.find(b'\\xff\\xd9')\n",
    "        if jpghead>-1 and jpgend>-1:\n",
    "            jpg=bts[jpghead:jpgend+2]\n",
    "            bts=bts[jpgend+2:]\n",
    "            img=cv.imdecode(np.frombuffer(jpg,dtype=np.uint8),cv.IMREAD_UNCHANGED)\n",
    "            #img=cv.flip(img,0) #>0:垂直翻轉, 0:水平翻轉, <0:垂直水平翻轉            \n",
    "            #h,w=img.shape[:2]\n",
    "            #print('影像大小 高:' + str(h) + '寬：' + str(w))\n",
    "            # img=cv.resize(img,(640,480))\n",
    "            cv.imshow(\"a\",img)\n",
    "        else:\n",
    "            sys.exit(1)\n",
    "        k=cv.waitKey(1)\n",
    "    except Exception as e:\n",
    "        print(\"Error:\" + str(e))\n",
    "        bts=b''\n",
    "        stream=urlopen(url)\n",
    "        sys.exit(1)\n",
    "        continue\n",
    "    \n",
    "    k=cv.waitKey(1)\n",
    "    # 按a拍照存檔\n",
    "    if k & 0xFF == ord('a'):\n",
    "        cv.imwrite(str(i) + \".jpg\", img)\n",
    "        i=i+1\n",
    "    # 按q離開\n",
    "    if k & 0xFF == ord('q'):\n",
    "        break\n",
    "cv.destroyAllWindows()"
   ]
  },
  {
   "cell_type": "code",
   "execution_count": null,
   "metadata": {},
   "outputs": [],
   "source": [
    "# input_node = recorded.Node(input_dir=\"t1.jpg\", mirror_image=True)\n",
    "# input_node = live.Node(input_source = \"http://192.168.162.167:8080/stream.mjpeg\", threading= True)\n",
    "input_node = live.Node(threading = True)\n",
    "yolo_node = yolo.Node(\n",
    "    detect_ids =[0,2], # detect human for 0, car for 2\n",
    "    # yolo_iou_threshold = .2\n",
    "    )\n",
    "fps_node = fps.Node(fps_log_display=True)\n",
    "draw_bbox_node = bbox.Node()\n",
    "legend_node = legend.Node()\n",
    "output_node = screen.Node()\n",
    "tracker_node = tracker.Node()\n",
    "counter_node = counter.Node(endpoint = \"https://spai-human-counter-backend-api.herokuapp.com/history/\")\n",
    "blur_bbox_node = blur_bbox.Node()\n",
    "print_node = printPipe.Node(dataInPipe = ['footfall'], skipFrames = 30)"
   ]
  },
  {
   "cell_type": "code",
   "execution_count": null,
   "metadata": {},
   "outputs": [],
   "source": [
    "runner = Runner(nodes=[\n",
    "    input_node, \n",
    "    yolo_node, \n",
    "    tracker_node,\n",
    "    counter_node,\n",
    "    print_node,\n",
    "    fps_node,\n",
    "    draw_bbox_node,\n",
    "    blur_bbox_node,\n",
    "    legend_node,\n",
    "    output_node])\n",
    "runner.run()"
   ]
  },
  {
   "cell_type": "code",
   "execution_count": null,
   "metadata": {},
   "outputs": [],
   "source": [
    "import cv2\n",
    "cv2.destroyAllWindows()"
   ]
  },
  {
   "cell_type": "code",
   "execution_count": null,
   "metadata": {},
   "outputs": [],
   "source": [
    "runner.pipeline.data.keys()"
   ]
  }
 ],
 "metadata": {
  "interpreter": {
   "hash": "5664fd0cee657f6041247b3f93ec41dfb5fa2def10c0cc7ab8aba8ff3a3cb5d3"
  },
  "kernelspec": {
   "display_name": "Python 3.8.12 64-bit ('human-entrance': conda)",
   "name": "python3"
  },
  "language_info": {
   "codemirror_mode": {
    "name": "ipython",
    "version": 3
   },
   "file_extension": ".py",
   "mimetype": "text/x-python",
   "name": "python",
   "nbconvert_exporter": "python",
   "pygments_lexer": "ipython3",
   "version": "3.8.12"
  },
  "orig_nbformat": 4
 },
 "nbformat": 4,
 "nbformat_minor": 2
}
