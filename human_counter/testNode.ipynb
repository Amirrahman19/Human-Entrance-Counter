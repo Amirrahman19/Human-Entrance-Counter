{
 "cells": [
  {
   "cell_type": "code",
   "execution_count": null,
   "metadata": {},
   "outputs": [],
   "source": [
    "import peekingduck\n",
    "assert peekingduck.__version__ == 'v1.1.0' , \"Peekingduck is not Updated to the latest version.\""
   ]
  },
  {
   "cell_type": "code",
   "execution_count": null,
   "metadata": {},
   "outputs": [],
   "source": [
    "from peekingduck.runner import Runner\n",
    "from peekingduck.pipeline.nodes.input import live\n",
    "from peekingduck.pipeline.nodes.model import yolo\n",
    "from peekingduck.pipeline.nodes.draw import bbox, legend, blur_bbox\n",
    "from peekingduck.pipeline.nodes.dabble import fps\n",
    "from peekingduck.pipeline.nodes.output import media_writer, screen\n",
    "from peekingduck.pipeline.nodes.node import AbstractNode\n",
    "from custom_nodes.debug import printPipe\n",
    "from custom_nodes.tracking import tracker\n",
    "from custom_nodes.tracking import counter"
   ]
  },
  {
   "cell_type": "code",
   "execution_count": null,
   "metadata": {},
   "outputs": [],
   "source": [
    "# input_node = recorded.Node(input_dir=\"t1.jpg\", mirror_image=True)\n",
    "# input_node = live.Node(input_source = \"https://download.samplelib.com/mp4/sample-5s.mp4\")\n",
    "input_node = live.Node(\n",
    "    threading = True\n",
    ")\n",
    "yolo_node = yolo.Node(\n",
    "    detect_ids =[0,2], # detect human for 0, car for 2\n",
    "    # yolo_iou_threshold = .2\n",
    "    )\n",
    "fps_node = fps.Node(fps_log_display=True)\n",
    "draw_bbox_node = bbox.Node()\n",
    "legend_node = legend.Node()\n",
    "output_node = screen.Node()\n",
    "tracker_node = tracker.Node()\n",
    "# the 0.5 is just a random ROI value\n",
    "counter_node = counter.Node(0.5)\n",
    "blur_bbox_node = blur_bbox.Node()\n",
    "print_node = printPipe.Node(dataInPipe = ['bboxes','trackers'], skipFrames = 30)"
   ]
  },
  {
   "cell_type": "code",
   "execution_count": null,
   "metadata": {},
   "outputs": [],
   "source": [
    "runner = Runner(nodes=[\n",
    "    input_node, \n",
    "    yolo_node, \n",
    "    tracker_node,\n",
    "    print_node,\n",
    "    counter_node,\n",
    "    fps_node,\n",
    "    draw_bbox_node,\n",
    "    blur_bbox_node,\n",
    "    legend_node,\n",
    "    output_node])\n",
    "runner.run()"
   ]
  },
  {
   "cell_type": "code",
   "execution_count": null,
   "metadata": {},
   "outputs": [],
   "source": [
    "import cv2\n",
    "cv2.destroyAllWindows()"
   ]
  },
  {
   "cell_type": "code",
   "execution_count": null,
   "metadata": {},
   "outputs": [],
   "source": [
    "runner.pipeline.data.keys()"
   ]
  }
 ],
 "metadata": {
  "interpreter": {
   "hash": "5664fd0cee657f6041247b3f93ec41dfb5fa2def10c0cc7ab8aba8ff3a3cb5d3"
  },
  "kernelspec": {
   "display_name": "Python 3.8.12 64-bit ('human-entrance': conda)",
   "name": "python3"
  },
  "language_info": {
   "codemirror_mode": {
    "name": "ipython",
    "version": 3
   },
   "file_extension": ".py",
   "mimetype": "text/x-python",
   "name": "python",
   "nbconvert_exporter": "python",
   "pygments_lexer": "ipython3",
   "version": "3.8.12"
  },
  "orig_nbformat": 4
 },
 "nbformat": 4,
 "nbformat_minor": 2
}
