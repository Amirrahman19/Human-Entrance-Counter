{
 "cells": [
  {
   "cell_type": "code",
   "execution_count": 1,
   "metadata": {},
   "outputs": [],
   "source": [
    "import peekingduck\n",
    "assert peekingduck.__version__ == 'v1.0.2' , \"Peekingduck is not Updated to the latest version.\""
   ]
  },
  {
   "cell_type": "code",
   "execution_count": 1,
   "metadata": {},
   "outputs": [],
   "source": [
    "from peekingduck.runner import Runner\n",
    "from peekingduck.pipeline.nodes.input import live\n",
    "from peekingduck.pipeline.nodes.model import yolo\n",
    "from peekingduck.pipeline.nodes.draw import bbox, legend\n",
    "from peekingduck.pipeline.nodes.dabble import fps\n",
    "from peekingduck.pipeline.nodes.output import media_writer, screen\n",
    "from peekingduck.pipeline.nodes.node import AbstractNode\n",
    "from custom_nodes.debug import printPipe\n",
    "from custom_nodes.tracking import tracker"
   ]
  },
  {
   "cell_type": "code",
   "execution_count": 2,
   "metadata": {},
   "outputs": [],
   "source": [
    "# input_node = recorded.Node(input_dir=\"t1.jpg\", mirror_image=True)\n",
    "# input_node = live.Node(input_source = \"https://download.samplelib.com/mp4/sample-5s.mp4\")\n",
    "input_node = live.Node(\n",
    "    threading = True\n",
    ")\n",
    "yolo_node = yolo.Node(\n",
    "    detect_ids =[0,2], # detect human for 0, car for 2\n",
    "    # yolo_iou_threshold = .2\n",
    "    )\n",
    "fps_node = fps.Node(fps_log_display=True)\n",
    "draw_bbox_node = bbox.Node()\n",
    "legend_node = legend.Node()\n",
    "output_node = screen.Node()\n",
    "tracker_node = tracker.Node()\n",
    "print_node = printPipe.Node(dataInPipe = ['bboxes','trackers'], skipFrames = 30)"
   ]
  },
  {
   "cell_type": "code",
   "execution_count": 4,
   "metadata": {},
   "outputs": [
    {
     "name": "stdout",
     "output_type": "stream",
     "text": [
      "[[0.09693133 0.3138105  0.55577576 0.8931264 ]],OrderedDict([(0, array([208, 289]))])\n",
      "[[0.09868593 0.33535057 0.55490226 0.8764113 ]],OrderedDict([(0, array([209, 290]))])\n",
      "[[0.09527773 0.32085684 0.546968   0.89396596]],OrderedDict([(0, array([205, 291]))])\n",
      "[[0.10000826 0.318648   0.54841095 0.8940364 ]],OrderedDict([(0, array([207, 291]))])\n"
     ]
    },
    {
     "ename": "KeyboardInterrupt",
     "evalue": "",
     "output_type": "error",
     "traceback": [
      "\u001b[1;31m---------------------------------------------------------------------------\u001b[0m",
      "\u001b[1;31mKeyboardInterrupt\u001b[0m                         Traceback (most recent call last)",
      "\u001b[1;32m~\\AppData\\Local\\Temp/ipykernel_16776/1762974638.py\u001b[0m in \u001b[0;36m<module>\u001b[1;34m\u001b[0m\n\u001b[0;32m      8\u001b[0m     \u001b[0mlegend_node\u001b[0m\u001b[1;33m,\u001b[0m\u001b[1;33m\u001b[0m\u001b[1;33m\u001b[0m\u001b[0m\n\u001b[0;32m      9\u001b[0m     output_node])\n\u001b[1;32m---> 10\u001b[1;33m \u001b[0mrunner\u001b[0m\u001b[1;33m.\u001b[0m\u001b[0mrun\u001b[0m\u001b[1;33m(\u001b[0m\u001b[1;33m)\u001b[0m\u001b[1;33m\u001b[0m\u001b[1;33m\u001b[0m\u001b[0m\n\u001b[0m",
      "\u001b[1;32m~\\anaconda3\\envs\\testmdfk\\lib\\site-packages\\peekingduck\\runner.py\u001b[0m in \u001b[0;36mrun\u001b[1;34m(self)\u001b[0m\n\u001b[0;32m     94\u001b[0m                               for key in node.inputs if key in self.pipeline.data}\n\u001b[0;32m     95\u001b[0m \u001b[1;33m\u001b[0m\u001b[0m\n\u001b[1;32m---> 96\u001b[1;33m                 \u001b[0moutputs\u001b[0m \u001b[1;33m=\u001b[0m \u001b[0mnode\u001b[0m\u001b[1;33m.\u001b[0m\u001b[0mrun\u001b[0m\u001b[1;33m(\u001b[0m\u001b[0minputs\u001b[0m\u001b[1;33m)\u001b[0m\u001b[1;33m\u001b[0m\u001b[1;33m\u001b[0m\u001b[0m\n\u001b[0m\u001b[0;32m     97\u001b[0m                 \u001b[0mself\u001b[0m\u001b[1;33m.\u001b[0m\u001b[0mpipeline\u001b[0m\u001b[1;33m.\u001b[0m\u001b[0mdata\u001b[0m\u001b[1;33m.\u001b[0m\u001b[0mupdate\u001b[0m\u001b[1;33m(\u001b[0m\u001b[0moutputs\u001b[0m\u001b[1;33m)\u001b[0m  \u001b[1;31m# type: ignore\u001b[0m\u001b[1;33m\u001b[0m\u001b[1;33m\u001b[0m\u001b[0m\n\u001b[0;32m     98\u001b[0m \u001b[1;33m\u001b[0m\u001b[0m\n",
      "\u001b[1;32m~\\anaconda3\\envs\\testmdfk\\lib\\site-packages\\peekingduck\\pipeline\\nodes\\output\\screen.py\u001b[0m in \u001b[0;36mrun\u001b[1;34m(self, inputs)\u001b[0m\n\u001b[0;32m     41\u001b[0m         \u001b[0mcv2\u001b[0m\u001b[1;33m.\u001b[0m\u001b[0mimshow\u001b[0m\u001b[1;33m(\u001b[0m\u001b[1;34m'PeekingDuck'\u001b[0m\u001b[1;33m,\u001b[0m \u001b[0minputs\u001b[0m\u001b[1;33m[\u001b[0m\u001b[1;34m\"img\"\u001b[0m\u001b[1;33m]\u001b[0m\u001b[1;33m)\u001b[0m\u001b[1;33m\u001b[0m\u001b[1;33m\u001b[0m\u001b[0m\n\u001b[0;32m     42\u001b[0m \u001b[1;33m\u001b[0m\u001b[0m\n\u001b[1;32m---> 43\u001b[1;33m         \u001b[1;32mif\u001b[0m \u001b[0mcv2\u001b[0m\u001b[1;33m.\u001b[0m\u001b[0mwaitKey\u001b[0m\u001b[1;33m(\u001b[0m\u001b[1;36m1\u001b[0m\u001b[1;33m)\u001b[0m \u001b[1;33m&\u001b[0m \u001b[1;36m0xFF\u001b[0m \u001b[1;33m==\u001b[0m \u001b[0mord\u001b[0m\u001b[1;33m(\u001b[0m\u001b[1;34m'q'\u001b[0m\u001b[1;33m)\u001b[0m\u001b[1;33m:\u001b[0m\u001b[1;33m\u001b[0m\u001b[1;33m\u001b[0m\u001b[0m\n\u001b[0m\u001b[0;32m     44\u001b[0m             \u001b[1;32mreturn\u001b[0m \u001b[1;33m{\u001b[0m\u001b[1;34m\"pipeline_end\"\u001b[0m\u001b[1;33m:\u001b[0m \u001b[1;32mTrue\u001b[0m\u001b[1;33m}\u001b[0m\u001b[1;33m\u001b[0m\u001b[1;33m\u001b[0m\u001b[0m\n\u001b[0;32m     45\u001b[0m \u001b[1;33m\u001b[0m\u001b[0m\n",
      "\u001b[1;31mKeyboardInterrupt\u001b[0m: "
     ]
    }
   ],
   "source": [
    "runner = Runner(nodes=[\n",
    "    input_node, \n",
    "    yolo_node, \n",
    "    tracker_node,\n",
    "    print_node,\n",
    "    fps_node,\n",
    "    draw_bbox_node,\n",
    "    legend_node,\n",
    "    output_node])\n",
    "runner.run()"
   ]
  },
  {
   "cell_type": "code",
   "execution_count": 4,
   "metadata": {},
   "outputs": [],
   "source": [
    "import cv2\n",
    "cv2.destroyAllWindows()"
   ]
  },
  {
   "cell_type": "code",
   "execution_count": 5,
   "metadata": {},
   "outputs": [
    {
     "data": {
      "text/plain": [
       "{'img': None,\n",
       " 'pipeline_end': True,\n",
       " 'filename': 'webcamfeed.mp4',\n",
       " 'saved_video_fps': 10,\n",
       " 'bboxes': array([[0.00839012, 0.81813914, 0.15173249, 0.9111288 ]], dtype=float32),\n",
       " 'bbox_labels': array(['car'], dtype='<U3'),\n",
       " 'bbox_scores': array([0.82260895], dtype=float32)}"
      ]
     },
     "execution_count": 5,
     "metadata": {},
     "output_type": "execute_result"
    }
   ],
   "source": [
    "runner.pipeline.data"
   ]
  }
 ],
 "metadata": {
  "interpreter": {
   "hash": "7b8feb262d60b1e8f4a58e749752ebae672f7011b993ec3c2e97f8f096c8f9d8"
  },
  "kernelspec": {
   "display_name": "Python 3.8.11 64-bit ('testmdfk': conda)",
   "name": "python3"
  },
  "language_info": {
   "codemirror_mode": {
    "name": "ipython",
    "version": 3
   },
   "file_extension": ".py",
   "mimetype": "text/x-python",
   "name": "python",
   "nbconvert_exporter": "python",
   "pygments_lexer": "ipython3",
   "version": "3.8.11"
  },
  "orig_nbformat": 4
 },
 "nbformat": 4,
 "nbformat_minor": 2
}
