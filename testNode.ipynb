{
 "cells": [
  {
   "cell_type": "code",
   "execution_count": 1,
   "metadata": {},
   "outputs": [],
   "source": [
    "import peekingduck\n",
    "assert peekingduck.__version__ == 'v1.0.2' , \"Peekingduck is not Updated to the latest version.\""
   ]
  },
  {
   "cell_type": "code",
   "execution_count": 1,
   "metadata": {},
   "outputs": [],
   "source": [
    "from peekingduck.runner import Runner\n",
    "from peekingduck.pipeline.nodes.input import live\n",
    "from peekingduck.pipeline.nodes.model import yolo\n",
    "from peekingduck.pipeline.nodes.draw import bbox, legend\n",
    "from peekingduck.pipeline.nodes.dabble import fps\n",
    "from peekingduck.pipeline.nodes.output import media_writer, screen\n",
    "from peekingduck.pipeline.nodes.node import AbstractNode\n",
    "from custom_nodes.debug import printPipe\n",
    "from custom_nodes.tracking import tracker"
   ]
  },
  {
   "cell_type": "code",
   "execution_count": 2,
   "metadata": {},
   "outputs": [],
   "source": [
    "# input_node = recorded.Node(input_dir=\"t1.jpg\", mirror_image=True)\n",
    "# input_node = live.Node(input_source = \"https://download.samplelib.com/mp4/sample-5s.mp4\")\n",
    "input_node = live.Node(\n",
    "    threading = True\n",
    ")\n",
    "yolo_node = yolo.Node(\n",
    "    detect_ids =[0,2], # detect human for 0, car for 2\n",
    "    # yolo_iou_threshold = .2\n",
    "    )\n",
    "fps_node = fps.Node(fps_log_display=True)\n",
    "draw_node = bbox.Node()\n",
    "legend_node = legend.Node()\n",
    "output_node = screen.Node()\n",
    "tracker_node = tracker.Node()\n",
    "print_node = printPipe.Node(targetData = ['bboxes','trackers'], skipFrames = 30)"
   ]
  },
  {
   "cell_type": "code",
   "execution_count": 3,
   "metadata": {},
   "outputs": [
    {
     "name": "stdout",
     "output_type": "stream",
     "text": [
      "[[0.05787925 0.3258155  0.63295776 0.87838453]],OrderedDict([(0, array([221, 289]))])\n",
      "[[0.08910128 0.31806856 0.734705   0.8837012 ]],OrderedDict([(0, array([263, 288]))])\n",
      "[[0.10280905 0.334434   0.71293193 0.8764962 ]],OrderedDict([(0, array([261, 290]))])\n",
      "[[0.2049806  0.20661718 0.753998   0.92247206]],OrderedDict([(0, array([306, 270]))])\n",
      "[],OrderedDict([(0, array([603, 267]))])\n",
      "[],OrderedDict([(0, array([603, 267]))])\n",
      "[[0.6458491  0.41771236 1.         0.8858004 ]],OrderedDict([(1, array([526, 312]))])\n",
      "[[0.4915369  0.31423864 1.         0.8836393 ]],OrderedDict([(1, array([477, 287]))])\n",
      "[[0.5400075  0.31842348 0.97864294 0.8861708 ]],OrderedDict([(1, array([485, 289]))])\n",
      "[[0.34864244 0.38461643 0.83971435 0.88075113]],OrderedDict([(1, array([380, 303]))])\n",
      "[[0.20868857 0.3174214  0.67403793 0.88549244]],OrderedDict([(1, array([282, 288]))])\n",
      "[[0.07038253 0.23231353 0.651717   0.9239999 ]],OrderedDict([(1, array([231, 277]))])\n",
      "[[0.07198939 0.21854486 0.64912564 0.9150262 ]],OrderedDict([(1, array([230, 272]))])\n",
      "[[0.07281321 0.21483047 0.5880968  0.90030915]],OrderedDict([(1, array([211, 267]))])\n",
      "[[0.08795979 0.20511705 0.565621   0.9091144 ]],OrderedDict([(1, array([209, 267]))])\n",
      "[[0.07438245 0.20671394 0.6494238  0.9126929 ]],OrderedDict([(1, array([231, 268]))])\n",
      "[[0.05188948 0.21750161 0.5202204  0.8960315 ]],OrderedDict([(1, array([183, 267]))])\n",
      "[[0.06976134 0.21581951 0.57371795 0.9083242 ]],OrderedDict([(1, array([205, 269]))])\n",
      "[[0.16272184 0.22350873 0.5713212  0.8966992 ]],OrderedDict([(1, array([234, 268]))])\n",
      "[[0.06940778 0.21835676 0.5979963  0.90452033]],OrderedDict([(1, array([213, 269]))])\n",
      "[[0.07882172 0.20662972 0.5707835  0.90289706]],OrderedDict([(1, array([207, 266]))])\n",
      "[[0.07798375 0.19767673 0.576018   0.9117843 ]],OrderedDict([(1, array([209, 266]))])\n",
      "[[0.07988559 0.20051828 0.57284385 0.90784955]],OrderedDict([(1, array([208, 266]))])\n",
      "[[0.07650315 0.20366405 0.5728625  0.9051655 ]],OrderedDict([(1, array([207, 266]))])\n",
      "[[0.08682823 0.1975408  0.5746138  0.90623695]],OrderedDict([(1, array([211, 264]))])\n",
      "[[0.08272723 0.20379823 0.57978785 0.9043088 ]],OrderedDict([(1, array([212, 265]))])\n",
      "[[0.08585569 0.20503324 0.57815135 0.90137905]],OrderedDict([(1, array([212, 265]))])\n",
      "[[0.05465147 0.19201408 0.5243834  0.92292   ]],OrderedDict([(1, array([185, 267]))])\n",
      "[[0.07396025 0.19909547 0.61524093 0.9176809 ]],OrderedDict([(1, array([220, 268]))])\n",
      "[[0.08290008 0.2365378  0.5894668  0.8951377 ]],OrderedDict([(1, array([215, 271]))])\n",
      "[[0.06792199 0.21537165 0.58642054 0.90769184]],OrderedDict([(1, array([209, 269]))])\n",
      "[[0.07844885 0.09302085 0.6518627  0.93923205]],OrderedDict([(1, array([233, 247]))])\n",
      "[[0.19536617 0.29407105 0.81910664 0.9039391 ]],OrderedDict([(1, array([324, 287]))])\n",
      "[],OrderedDict([(1, array([607, 271])), (2, array([367, 279]))])\n",
      "[],OrderedDict([(1, array([606, 279]))])\n",
      "[],OrderedDict([(1, array([606, 279]))])\n",
      "[],OrderedDict()\n",
      "[[0.7057031 0.2827616 1.        0.8907229]],OrderedDict([(3, array([545, 281]))])\n",
      "[[0.31087598 0.36564738 0.72541356 0.8780628 ]],OrderedDict([(3, array([331, 298]))])\n",
      "[[0.3934422 0.3675213 0.8227316 0.8843226]],OrderedDict([(3, array([389, 300]))])\n",
      "[],OrderedDict([(3, array([597, 288]))])\n",
      "[],OrderedDict([(3, array([597, 288]))])\n",
      "[[0.7651861  0.43142873 1.         0.88004524]],OrderedDict([(4, array([564, 314]))])\n",
      "[[0.43741375 0.30129388 1.         0.9059867 ]],OrderedDict([(4, array([527, 287])), (5, array([459, 289]))])\n",
      "[[0.10780536 0.2803803  0.753305   0.9034043 ]],OrderedDict([(4, array([527, 287])), (5, array([379, 287]))])\n"
     ]
    }
   ],
   "source": [
    "runner = Runner(nodes=[\n",
    "    input_node, \n",
    "    yolo_node, \n",
    "    tracker_node,\n",
    "    print_node,\n",
    "    fps_node,\n",
    "    draw_node,\n",
    "    legend_node,\n",
    "    output_node])\n",
    "runner.run()"
   ]
  },
  {
   "cell_type": "code",
   "execution_count": 4,
   "metadata": {},
   "outputs": [],
   "source": [
    "import cv2\n",
    "cv2.destroyAllWindows()"
   ]
  },
  {
   "cell_type": "code",
   "execution_count": 5,
   "metadata": {},
   "outputs": [
    {
     "data": {
      "text/plain": [
       "{'img': None,\n",
       " 'pipeline_end': True,\n",
       " 'filename': 'webcamfeed.mp4',\n",
       " 'saved_video_fps': 10,\n",
       " 'bboxes': array([[0.00839012, 0.81813914, 0.15173249, 0.9111288 ]], dtype=float32),\n",
       " 'bbox_labels': array(['car'], dtype='<U3'),\n",
       " 'bbox_scores': array([0.82260895], dtype=float32)}"
      ]
     },
     "execution_count": 5,
     "metadata": {},
     "output_type": "execute_result"
    }
   ],
   "source": [
    "runner.pipeline.data"
   ]
  }
 ],
 "metadata": {
  "interpreter": {
   "hash": "7b8feb262d60b1e8f4a58e749752ebae672f7011b993ec3c2e97f8f096c8f9d8"
  },
  "kernelspec": {
   "display_name": "Python 3.8.11 64-bit ('testmdfk': conda)",
   "name": "python3"
  },
  "language_info": {
   "codemirror_mode": {
    "name": "ipython",
    "version": 3
   },
   "file_extension": ".py",
   "mimetype": "text/x-python",
   "name": "python",
   "nbconvert_exporter": "python",
   "pygments_lexer": "ipython3",
   "version": "3.8.11"
  },
  "orig_nbformat": 4
 },
 "nbformat": 4,
 "nbformat_minor": 2
}
